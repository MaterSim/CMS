{
 "cells": [
  {
   "cell_type": "code",
   "execution_count": 1,
   "metadata": {},
   "outputs": [],
   "source": [
    "from ase.io import read, write\n",
    "from ase import Atoms\n",
    "\n",
    "struc = read('gra.vasp',format='vasp')"
   ]
  },
  {
   "cell_type": "code",
   "execution_count": 3,
   "metadata": {},
   "outputs": [],
   "source": [
    "from ase.build import surface\n",
    "s1 = surface(struc, (1,1,0), layers=2)"
   ]
  },
  {
   "cell_type": "code",
   "execution_count": 4,
   "metadata": {},
   "outputs": [
    {
     "data": {
      "text/plain": [
       "array([[  5.21976843e-17,   7.50000000e-01,   0.00000000e+00],\n",
       "       [  0.00000000e+00,   2.50000000e-01,   0.00000000e+00],\n",
       "       [  3.33333330e-01,   7.50000000e-01,   0.00000000e+00],\n",
       "       [  6.66666670e-01,   2.50000000e-01,   0.00000000e+00],\n",
       "       [  5.00000000e-01,   7.50000000e-01,   1.22800000e+00],\n",
       "       [  5.00000000e-01,   2.50000000e-01,   1.22800000e+00],\n",
       "       [  8.33333330e-01,   7.50000000e-01,   1.22800000e+00],\n",
       "       [  1.66666670e-01,   2.50000000e-01,   1.22800000e+00]])"
      ]
     },
     "execution_count": 4,
     "metadata": {},
     "output_type": "execute_result"
    }
   ],
   "source": [
    "s1.get_scaled_positions()"
   ]
  },
  {
   "cell_type": "code",
   "execution_count": 5,
   "metadata": {},
   "outputs": [],
   "source": [
    "write('POSCAR',s1, format='vasp')"
   ]
  },
  {
   "cell_type": "code",
   "execution_count": 6,
   "metadata": {},
   "outputs": [],
   "source": [
    "from ase.build.supercells import make_supercell\n",
    "import numpy as np\n",
    "\n",
    "P = np.array([[1,-1,0],[1,1,0],[0,0,1]])*10\n",
    "s = make_supercell(struc, P)\n"
   ]
  },
  {
   "cell_type": "code",
   "execution_count": 7,
   "metadata": {},
   "outputs": [
    {
     "data": {
      "text/plain": [
       "Atoms(symbols='C8000', pbc=True, cell=[[0.0, -42.5391678, 0.0], [24.56, 0.0, 0.0], [0.0, 0.0, 67.1]])"
      ]
     },
     "execution_count": 7,
     "metadata": {},
     "output_type": "execute_result"
    }
   ],
   "source": [
    "s"
   ]
  },
  {
   "cell_type": "code",
   "execution_count": null,
   "metadata": {
    "collapsed": true
   },
   "outputs": [],
   "source": [
    "#write('new.gen',s, format='gen')"
   ]
  },
  {
   "cell_type": "code",
   "execution_count": null,
   "metadata": {
    "collapsed": true
   },
   "outputs": [],
   "source": []
  }
 ],
 "metadata": {
  "kernelspec": {
   "display_name": "Python 3",
   "language": "python",
   "name": "python3"
  },
  "language_info": {
   "codemirror_mode": {
    "name": "ipython",
    "version": 3
   },
   "file_extension": ".py",
   "mimetype": "text/x-python",
   "name": "python",
   "nbconvert_exporter": "python",
   "pygments_lexer": "ipython3",
   "version": "3.6.0"
  }
 },
 "nbformat": 4,
 "nbformat_minor": 2
}
