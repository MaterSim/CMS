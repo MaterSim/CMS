{
 "cells": [
  {
   "cell_type": "code",
   "execution_count": 14,
   "metadata": {
    "collapsed": true
   },
   "outputs": [],
   "source": [
    "from ase.cluster import Octahedron\n",
    "au_55 = Octahedron('Au', 5, cutoff=2)"
   ]
  },
  {
   "cell_type": "code",
   "execution_count": 6,
   "metadata": {
    "collapsed": true
   },
   "outputs": [],
   "source": [
    "from ase.build import bulk\n",
    "cu = bulk('Cu','fcc',a=3.6)"
   ]
  },
  {
   "cell_type": "code",
   "execution_count": 10,
   "metadata": {
    "collapsed": true
   },
   "outputs": [],
   "source": [
    "from ase.build import molecule\n",
    "water = molecule('H2O')\n"
   ]
  },
  {
   "cell_type": "code",
   "execution_count": 17,
   "metadata": {
    "collapsed": true
   },
   "outputs": [],
   "source": [
    "from ase import Atoms\n",
    "au = Atoms(au_55)  #x3d view function is only suppored for atoms class"
   ]
  },
  {
   "cell_type": "code",
   "execution_count": 26,
   "metadata": {},
   "outputs": [
    {
     "data": {
      "text/html": [
       "<html>\n",
       " <head>\n",
       "  <title>ASE atomic visualization</title>\n",
       "  <link rel=\"stylesheet\" type=\"text/css\"\n",
       "   href=\"https://www.x3dom.org/x3dom/release/x3dom.css\">\n",
       "  </link>\n",
       "  <script type=\"text/javascript\"\n",
       "   src=\"https://www.x3dom.org/x3dom/release/x3dom.js\">\n",
       "  </script>\n",
       " </head>\n",
       " <body>\n",
       "  <X3D style=\"margin:0; padding:0; width:100%; height:100%; border:none;\">\n",
       "   <Scene>\n",
       "    <Transform translation=\"0.00 0.00 0.12\">\n",
       "     <Shape>\n",
       "      <Appearance>\n",
       "       <Material diffuseColor=\"1.000 0.051 0.051\" specularColor=\"0.5 0.5 0.5\">\n",
       "       </Material>\n",
       "      </Appearance>\n",
       "      <Sphere radius=\"0.66\">\n",
       "      </Sphere>\n",
       "     </Shape>\n",
       "    </Transform>\n",
       "    <Transform translation=\"0.00 0.76 -0.48\">\n",
       "     <Shape>\n",
       "      <Appearance>\n",
       "       <Material diffuseColor=\"1.000 1.000 1.000\" specularColor=\"0.5 0.5 0.5\">\n",
       "       </Material>\n",
       "      </Appearance>\n",
       "      <Sphere radius=\"0.31\">\n",
       "      </Sphere>\n",
       "     </Shape>\n",
       "    </Transform>\n",
       "    <Transform translation=\"0.00 -0.76 -0.48\">\n",
       "     <Shape>\n",
       "      <Appearance>\n",
       "       <Material diffuseColor=\"1.000 1.000 1.000\" specularColor=\"0.5 0.5 0.5\">\n",
       "       </Material>\n",
       "      </Appearance>\n",
       "      <Sphere radius=\"0.31\">\n",
       "      </Sphere>\n",
       "     </Shape>\n",
       "    </Transform>\n",
       "   </Scene>\n",
       "  </X3D>\n",
       " </body>\n",
       "</html>\n"
      ],
      "text/plain": [
       "<IPython.core.display.HTML object>"
      ]
     },
     "execution_count": 26,
     "metadata": {},
     "output_type": "execute_result"
    }
   ],
   "source": [
    "from ase.visualize import view\n",
    "view(water, viewer='x3d', repeat=[2,2,2])"
   ]
  },
  {
   "cell_type": "code",
   "execution_count": 28,
   "metadata": {},
   "outputs": [
    {
     "name": "stdout",
     "output_type": "stream",
     "text": [
      "Help on function view in module ase.visualize:\n",
      "\n",
      "view(atoms, data=None, viewer='ase', repeat=None, block=False)\n",
      "\n"
     ]
    }
   ],
   "source": [
    "help(view)\n",
    "#ASE gui is more powerful!"
   ]
  },
  {
   "cell_type": "code",
   "execution_count": null,
   "metadata": {
    "collapsed": true
   },
   "outputs": [],
   "source": [
    "#some file read/write function will be followed"
   ]
  },
  {
   "cell_type": "code",
   "execution_count": 4,
   "metadata": {},
   "outputs": [
    {
     "name": "stdout",
     "output_type": "stream",
     "text": [
      "['PH3', 'P2', 'CH3CHO', 'H2COH', 'CS', 'OCHCHO', 'C3H9C', 'CH3COF', 'CH3CH2OCH3', 'HCOOH', 'HCCl3', 'HOCl', 'H2', 'SH2', 'C2H2', 'C4H4NH', 'CH3SCH3', 'SiH2_s3B1d', 'CH3SH', 'CH3CO', 'CO', 'ClF3', 'SiH4', 'C2H6CHOH', 'CH2NHCH2', 'isobutene', 'HCO', 'bicyclobutane', 'LiF', 'Si', 'C2H6', 'CN', 'ClNO', 'S', 'SiF4', 'H3CNH2', 'methylenecyclopropane', 'CH3CH2OH', 'F', 'NaCl', 'CH3Cl', 'CH3SiH3', 'AlF3', 'C2H3', 'ClF', 'PF3', 'PH2', 'CH3CN', 'cyclobutene', 'CH3ONO', 'SiH3', 'C3H6_D3h', 'CO2', 'NO', 'trans-butane', 'H2CCHCl', 'LiH', 'NH2', 'CH', 'CH2OCH2', 'C6H6', 'CH3CONH2', 'cyclobutane', 'H2CCHCN', 'butadiene', 'C', 'H2CO', 'CH3COOH', 'HCF3', 'CH3S', 'CS2', 'SiH2_s1A1d', 'C4H4S', 'N2H4', 'OH', 'CH3OCH3', 'C5H5N', 'H2O', 'HCl', 'CH2_s1A1d', 'CH3CH2SH', 'CH3NO2', 'Cl', 'Be', 'BCl3', 'C4H4O', 'Al', 'CH3O', 'CH3OH', 'C3H7Cl', 'isobutane', 'Na', 'CCl4', 'CH3CH2O', 'H2CCHF', 'C3H7', 'CH3', 'O3', 'P', 'C2H4', 'NCCN', 'S2', 'AlCl3', 'SiCl4', 'SiO', 'C3H4_D2d', 'H', 'COF2', '2-butyne', 'C2H5', 'BF3', 'N2O', 'F2O', 'SO2', 'H2CCl2', 'CF3CN', 'HCN', 'C2H6NH', 'OCS', 'B', 'ClO', 'C3H8', 'HF', 'O2', 'SO', 'NH', 'C2F4', 'NF3', 'CH2_s3B1d', 'CH3CH2Cl', 'CH3COCl', 'NH3', 'C3H9N', 'CF4', 'C3H6_Cs', 'Si2H6', 'HCOOCH3', 'O', 'CCH', 'N', 'Si2', 'C2H6SO', 'C5H8', 'H2CF2', 'Li2', 'CH2SCH2', 'C2Cl4', 'C3H4_C3v', 'CH3COCH3', 'F2', 'CH4', 'SH', 'H2CCO', 'CH3CH2NH2', 'Li', 'N2', 'Cl2', 'H2O2', 'Na2', 'BeH', 'C3H4_C2v', 'NO2']\n"
     ]
    }
   ],
   "source": [
    "from ase.build import molecule\n",
    "from ase.collections import g2\n",
    "print(g2.names)\n"
   ]
  },
  {
   "cell_type": "code",
   "execution_count": 5,
   "metadata": {
    "collapsed": true
   },
   "outputs": [],
   "source": [
    "c60 = molecule('C60')"
   ]
  },
  {
   "cell_type": "code",
   "execution_count": 7,
   "metadata": {},
   "outputs": [],
   "source": [
    "from ase.visualize import view\n",
    "\n",
    "view(c60)"
   ]
  },
  {
   "cell_type": "code",
   "execution_count": 9,
   "metadata": {},
   "outputs": [
    {
     "data": {
      "text/plain": [
       "array([[ 2.2101953,  0.5866631,  2.6669504],\n",
       "       [ 3.1076393,  0.1577008,  1.6300286],\n",
       "       [ 1.328443 , -0.3158939,  3.2363232],\n",
       "       [ 3.0908709, -1.1585005,  1.201424 ],\n",
       "       [ 3.1879245, -1.4574599, -0.1997005],\n",
       "       [ 3.2214623,  1.2230966,  0.673944 ],\n",
       "       [ 3.316121 ,  0.9351586, -0.6765151],\n",
       "       [ 3.2984981, -0.4301142, -1.1204138],\n",
       "       [-0.4480842,  1.3591484,  3.208102 ],\n",
       "       [ 0.4672056,  2.294983 ,  2.6175264],\n",
       "       [-0.0256575,  0.0764219,  3.5086259],\n",
       "       [ 1.7727917,  1.9176584,  2.3529691],\n",
       "       [ 2.3954623,  2.3095689,  1.1189539],\n",
       "       [-0.2610195,  3.0820935,  1.6623117],\n",
       "       [ 0.3407726,  3.4592388,  0.4745968],\n",
       "       [ 1.6951171,  3.0692446,  0.1976623],\n",
       "       [-2.1258394, -0.8458853,  2.6700963],\n",
       "       [-2.562099 ,  0.4855202,  2.3531715],\n",
       "       [-0.8781521, -1.0461985,  3.2367302],\n",
       "       [-1.7415096,  1.5679963,  2.6197333],\n",
       "       [-1.6262468,  2.635703 ,  1.6641811],\n",
       "       [-3.298481 ,  0.4301871,  1.1204208],\n",
       "       [-3.1879469,  1.4573895,  0.199603 ],\n",
       "       [-2.3360261,  2.5813627,  0.4760912],\n",
       "       [-0.500521 , -2.9797771,  1.7940308],\n",
       "       [-1.7944338, -2.7729087,  1.2047891],\n",
       "       [-0.0514245, -2.1328841,  2.793883 ],\n",
       "       [-2.5891471, -1.7225828,  1.6329715],\n",
       "       [-3.3160705, -0.9350636,  0.6765268],\n",
       "       [-1.6951919, -3.0692581, -0.1976564],\n",
       "       [-2.3954901, -2.3096853, -1.1189862],\n",
       "       [-3.2214182, -1.2231835, -0.6739581],\n",
       "       [ 2.1758234, -2.0946263,  1.7922529],\n",
       "       [ 1.7118619, -2.9749681,  0.7557198],\n",
       "       [ 1.3130656, -1.6829416,  2.7943892],\n",
       "       [ 0.3959024, -3.4051395,  0.7557638],\n",
       "       [-0.3408219, -3.4591883, -0.474561 ],\n",
       "       [ 2.3360057, -2.5814499, -0.476105 ],\n",
       "       [ 1.6263757, -2.6357349, -1.6642309],\n",
       "       [ 0.2611352, -3.0821271, -1.6622618],\n",
       "       [-2.2100844, -0.5868636, -2.66703  ],\n",
       "       [-1.772697 , -1.9178969, -2.3530466],\n",
       "       [-0.4670723, -2.2950509, -2.6175105],\n",
       "       [-1.32835  ,  0.3157683, -3.2362375],\n",
       "       [-2.1759882,  2.0945383, -1.7923294],\n",
       "       [-3.0909663,  1.1583472, -1.2015749],\n",
       "       [-3.107609 , -0.1578453, -1.6301627],\n",
       "       [-1.3131365,  1.6828292, -2.7943639],\n",
       "       [ 0.5003224,  2.9799637, -1.7940203],\n",
       "       [-0.3961148,  3.4052817, -0.7557272],\n",
       "       [-1.7120629,  2.9749122, -0.7557988],\n",
       "       [ 0.0512824,  2.1329478, -2.793745 ],\n",
       "       [ 2.125863 ,  0.8460809, -2.6700534],\n",
       "       [ 2.5891853,  1.7227742, -1.6329562],\n",
       "       [ 1.794301 ,  2.7730684, -1.2048262],\n",
       "       [ 0.8781323,  1.0463514, -3.2365313],\n",
       "       [ 0.4482452, -1.3591061, -3.208051 ],\n",
       "       [ 1.7416948, -1.5679557, -2.6197714],\n",
       "       [ 2.5621724, -0.4853529, -2.3532026],\n",
       "       [ 0.0257904, -0.0763567, -3.5084446]])"
      ]
     },
     "execution_count": 9,
     "metadata": {},
     "output_type": "execute_result"
    }
   ],
   "source": [
    "c60.get_positions()"
   ]
  },
  {
   "cell_type": "code",
   "execution_count": null,
   "metadata": {
    "collapsed": true
   },
   "outputs": [],
   "source": []
  }
 ],
 "metadata": {
  "kernelspec": {
   "display_name": "Python 3",
   "language": "python",
   "name": "python3"
  },
  "language_info": {
   "codemirror_mode": {
    "name": "ipython",
    "version": 3
   },
   "file_extension": ".py",
   "mimetype": "text/x-python",
   "name": "python",
   "nbconvert_exporter": "python",
   "pygments_lexer": "ipython3",
   "version": "3.6.0"
  }
 },
 "nbformat": 4,
 "nbformat_minor": 2
}
