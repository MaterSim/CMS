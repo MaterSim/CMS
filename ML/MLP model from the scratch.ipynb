{
 "cells": [
  {
   "cell_type": "markdown",
   "metadata": {},
   "source": [
    "# Multi-Layer Perceptron from the scratch\n",
    "\n",
    "Nowadays, multi-Layer neural network has been proved to be a powerful tool in many data science problems. Though many existing packages have provided the interfaces to call this function (e.g. scikit-learn), it would be good to write some toy model by your own. Through this practice, you will gain some experience in software engineering. More importantly, you will understand the underlying mathmatics better and know how to fix the troubles when you run the code from the existing softwares. In the tutorial, we will continue to use the wine data and figure out how to write our own MLP classfier.\n",
    "\n",
    "Let us start with the example in the previous lecture\n",
    "```\n",
    "MLPClassifier(activation='relu', alpha=0.0001, batch_size='auto', beta_1=0.9,\n",
    "       beta_2=0.999, early_stopping=False, epsilon=1e-08,\n",
    "       hidden_layer_sizes=(4, 4), learning_rate='constant',\n",
    "       learning_rate_init=0.001, max_iter=200, momentum=0.9,\n",
    "       n_iter_no_change=10, nesterovs_momentum=True, power_t=0.5,\n",
    "       random_state=None, shuffle=True, solver='adam', tol=0.0001,\n",
    "       validation_fraction=0.1, verbose=False, warm_start=False)\n",
    "```\n",
    "<img src=\"img/MLP.jpeg\" style=\"width: 800px;\"/>\n",
    "<center> Figure 1, the MLP model used in this lecture</center>\n",
    "\n",
    "You should be able to understand most of the parameters at the moment. To realize a minimum version of MLP, we can try to implement the following parameters into our model:\n",
    "- hidden_layer_sizes: to make life easier, let us just consider 2 hidden layer models\n",
    "- max_iter: maximum number of iteractions\n",
    "- learning_rate_init: \n",
    "\n",
    "Note that we will completely ignore the terms related to regularization. \n",
    "We also need to choose the proper loss and activation functions. For simplicity, let's choose the followings,\n",
    "- Activation: Sigmoid\n",
    "- Loss: logloss\n",
    "\n",
    "## Forward propagation\n",
    "$\n",
    "\\begin{align}\n",
    "h_1 &= w_1\\cdot x + b_1\\\\\n",
    "z_1 & = f(h_1)\\\\\n",
    "h_2 &= w_2\\cdot f_1(w_1\\cdot x + b_1)) + b_2 = w_2\\cdot z_1 + b_2\\\\\n",
    "z_2 & = f(h_2)\\\\\n",
    "h_3 &= w_3\\cdot f_2((w_2\\cdot f_1(w_1\\cdot x + b_1)) + b_2)) + b_3 = w_3\\cdot z_2 + b_3\\\\\n",
    "y` &= f_3(h_3) \\\\\n",
    "\\end{align}\n",
    "$\n",
    "\n",
    "## Loss function (log loss): \n",
    "\n",
    "Logloss function is a popular choice for classification problem. In this scheme, the target values represented by an array of values betwen 0 and 1 (e.g., y=[0, 0, 1], y\\`=[0.1, 0.1, 0.9]))\n",
    "\\begin{align}\n",
    "L = \\sum y\\log y` \n",
    "\\end{align}\n",
    "\n",
    "\n",
    "\n",
    "## Back propagation\n",
    "\n",
    "$\n",
    "\\begin{align}\n",
    "%\\frac{\\partial L}{\\partial y} & = y-Y \\\\\n",
    "\\Delta_3 & = \\frac{\\partial L}{\\partial z3} = \\frac{\\partial L}{\\partial y`} \\frac{\\partial y`}{\\partial z_3} = y`-Y \\\\\n",
    "\\frac{\\partial L}{\\partial w_3}& = \\Delta_3 \\cdot h_2,~~~\n",
    "\\frac{\\partial L}{\\partial b_3} = \\Delta_3, ~~~ \n",
    "\\frac{\\partial L}{\\partial h_2} = \\Delta_3 \\cdot w_3 \\\\\n",
    "\\Delta_2 & = \\frac{\\partial L}{\\partial h_2} \\frac{\\partial h_2}{\\partial z_2} = \\Delta_3 \\cdot w_3 (1-h_2)h_2\\\\\n",
    "\\frac{\\partial L}{\\partial w_2} & = \\Delta_2 h_1,~~~\n",
    "\\frac{\\partial L}{\\partial b_2} = \\Delta_2 ~~~\n",
    "\\frac{\\partial L}{\\partial h_1} = \\Delta_3 \\cdot w_2\\\\\n",
    "\\Delta_1 & = \\frac{\\partial L}{\\partial h_1} \\frac{\\partial h_1}{\\partial z_1} = \\Delta_2 \\cdot w_2 (1-h_1)h_1\\\\\n",
    "\\frac{\\partial L}{\\partial w_2} & = \\Delta_1 \\cdot x,~~~\n",
    "\\frac{\\partial L}{\\partial b_2} = \\Delta_1 \\\\\n",
    "\\end{align}\n",
    "$\n",
    "\n"
   ]
  },
  {
   "cell_type": "code",
   "execution_count": 1,
   "metadata": {},
   "outputs": [],
   "source": [
    "%matplotlib inline\n",
    "\n",
    "import numpy as np\n",
    "import sys\n",
    "import matplotlib.pyplot as plt\n",
    "\n",
    "class my_MLPClassifier(object):\n",
    "    \"\"\"\n",
    "    Basic MultiLayer Perceptron (MLP) neural network.\n",
    "    Args:\n",
    "    hidden layer: []\n",
    "    max_iterations: []\n",
    "    \"\"\"\n",
    "    def __init__(self, hidden, max_iter, \n",
    "                 learning_rate=0.001, decay_rate=0.999, \n",
    "                 activation='sigmoid', loss='logloss'):\n",
    "        \"\"\"\n",
    "        :param hidden: number of hidden neurons\n",
    "        :param iterations: how many epochs\n",
    "        :param learning_rate: initial learning rate\n",
    "        \"\"\"\n",
    "        # initialize input parameters\n",
    "        self.iterations = max_iter\n",
    "        self.learning_rate = learning_rate\n",
    "        self.decay_rate = decay_rate\n",
    "        self.n_hid1, self.n_hid2 = hidden[0], hidden[1]\n",
    "        self.activation_method = activation\n",
    "        self.loss_method = loss\n",
    "        \n",
    "    def fit(self, x, y):      \n",
    "        \"\"\"\n",
    "        input: [178, 13] = [example, wine features]\n",
    "        output: [178, 3] = [example, class probabilities] \n",
    "        \"\"\"\n",
    "        # Initialize the weights and bias according to the input/target data\n",
    "        dim_in, dim_out = x.shape[1], 3\n",
    "        self.w1 = np.random.randn(dim_in, self.n_hid1) # [13,4] -- 52 weights \n",
    "        self.w2 = np.random.randn(self.n_hid1, self.n_hid2) # [4,4] -- 16 weights\n",
    "        self.w3 = np.random.randn(self.n_hid2, dim_out) # [4,3] -- 12 weights\n",
    "        self.b1 = np.random.randn(1,self.n_hid1) # [1,4] -- 4 biases\n",
    "        self.b2 = np.random.randn(1,self.n_hid2) # [1,4] -- 4 biases\n",
    "        self.b3 = np.random.randn(1,dim_out)  # [1,3] -- 3 bias\n",
    "        loss_hist = [] # track loss for printing\n",
    "        \n",
    "        for i in range(self.iterations):\n",
    "            # forward\n",
    "            (h1,h2,y_) = self.forward(x)\n",
    "            cost = self.loss_function(y_,y) \n",
    "            loss_hist.append(cost)\n",
    "            \n",
    "            # backprop\n",
    "            delta3 = (y_-y)\n",
    "            gradw3 = np.dot(np.transpose(h2),delta3)\n",
    "            gradb3 = np.sum(delta3, axis = 0)\n",
    "            delta2 = np.dot(delta3, np.transpose(self.w3)) * self.grad_activation(h2)\n",
    "            gradw2 = np.dot(np.transpose(h1),delta2)\n",
    "            gradb2 = np.sum(delta2, axis=0)  \n",
    "            delta1 = np.dot(delta2, np.transpose(self.w2)) * self.grad_activation(h1)\n",
    "            gradw1 = np.dot(np.transpose(x),delta1)\n",
    "            gradb1 = np.sum(delta1, axis=0)\n",
    "            \n",
    "            # update parameters\n",
    "            learning_rate = self.learning_rate * (self.decay_rate**i)\n",
    "            self.w3 -= learning_rate*gradw3\n",
    "            self.b3 -= learning_rate*gradb3\n",
    "            self.w2 -= learning_rate*gradw2\n",
    "            self.b2 -= learning_rate*gradb2\n",
    "            self.w1 -= learning_rate*gradw1\n",
    "            self.b1 -= learning_rate*gradb1\n",
    "            if i%100==0 or i+1==self.iterations:\n",
    "                print('activation function: {:s}, loss function: {:s} = {:8.3f}, iterations: {:d}, learning rate: {:6.4f}'\n",
    "                .format(self.activation_method, self.loss_method, round(cost,3), i, learning_rate))\n",
    "        self.weights = (self.w3, self.w2, self.w1)\n",
    "        self.bias = (self.b3, self.b2, self.b1)\n",
    "        \n",
    "        # plot the training curve\n",
    "        plt.title('training curve')\n",
    "        plt.xlabel('epoch')\n",
    "        plt.ylabel('loss')\n",
    "        plt.plot(np.arange(0,self.iterations),loss_hist)\n",
    "        plt.show()\n",
    "  \n",
    "    def loss_function(self,y_,y): \n",
    "        m = len(y)\n",
    "        if self.loss_method == 'logloss':\n",
    "            y_ /= y_.sum(axis=1)[:, np.newaxis]\n",
    "            return -1 * np.sum(y * np.log(y_))/len(y)\n",
    "        else:\n",
    "            raise NotImplementedError\n",
    "        \n",
    "    def hid_activation(self,x): \n",
    "        if self.activation_method == 'sigmoid':\n",
    "            return 1./(1+np.exp(-x))\n",
    "        else:\n",
    "            raise NotImplementedError\n",
    "\n",
    "    def grad_activation(self,x):\n",
    "        if self.activation_method == 'sigmoid': \n",
    "            return x * (1-x)\n",
    "        else:\n",
    "            raise NotImplementedError\n",
    "\n",
    "    def out_activation(self, x): \n",
    "        if self.loss_method == 'logloss':\n",
    "            return np.exp(x)/np.sum(np.exp(x),axis=1)[:, np.newaxis] \n",
    "        else:\n",
    "            raise NotImplementedError\n",
    "        \n",
    "    def forward(self,x):\n",
    "        z1 = np.dot(x,self.w1)+self.b1\n",
    "        h1 = self.hid_activation(z1)\n",
    "        z2 = np.dot(h1,self.w2)+self.b2\n",
    "        h2 = self.hid_activation(z2)\n",
    "        z3 = np.dot(h2,self.w3)+self.b3\n",
    "        y_ = self.out_activation(z3) \n",
    "        return(h1,h2,y_)\n",
    "    \n",
    "    def predict(self, x):\n",
    "        (h1, h2, y) = self.forward(x)\n",
    "        y_ = np.zeros(y.shape[0],int) \n",
    "        # array to reshape predictions to (178,)\n",
    "        for i in range(len(y)):\n",
    "            for j in range(len(y[i])):\n",
    "                y[i,j] = round(y[i,j],0)\n",
    "            y_[i] = np.argmax(y[i])\n",
    "        return y_\n",
    "\n"
   ]
  },
  {
   "cell_type": "code",
   "execution_count": 2,
   "metadata": {},
   "outputs": [],
   "source": [
    "## Obtain the data\n",
    "from sklearn.datasets import load_wine\n",
    "from sklearn.preprocessing import StandardScaler, OneHotEncoder\n",
    "data=load_wine()\n",
    "x, Y = data.data, data.target"
   ]
  },
  {
   "cell_type": "markdown",
   "metadata": {},
   "source": [
    "## preprocess the data\n",
    "\n",
    "As usual, it is important to process the data as follows:\n",
    "- x, it is recommended to normalize x for NN before the fitting through the `StandardScaler` in sklearn. \n",
    "- Y, if it is a classification problem, we need to transform Y to a set of arrays with 0 or 1. For instance, there exist four classes (1, 2, 3, 4), we need to transform them to [1,0,0,0], [0,1,0,0], [0,0,1,0] and [0,0,0,1]. Fortunately, this can be done via `OneHotEncoder` in sklearn as well."
   ]
  },
  {
   "cell_type": "code",
   "execution_count": 3,
   "metadata": {},
   "outputs": [
    {
     "name": "stdout",
     "output_type": "stream",
     "text": [
      "[1.423e+01 1.710e+00 2.430e+00 1.560e+01 1.270e+02 2.800e+00 3.060e+00\n",
      " 2.800e-01 2.290e+00 5.640e+00 1.040e+00 3.920e+00 1.065e+03]\n",
      "[ 1.51861254 -0.5622498   0.23205254 -1.16959318  1.91390522  0.80899739\n",
      "  1.03481896 -0.65956311  1.22488398  0.25171685  0.36217728  1.84791957\n",
      "  1.01300893]\n",
      "0\n",
      "[1. 0. 0.]\n"
     ]
    },
    {
     "name": "stderr",
     "output_type": "stream",
     "text": [
      "/anaconda3/lib/python3.6/site-packages/sklearn/preprocessing/_encoders.py:363: FutureWarning: The handling of integer data will change in version 0.22. Currently, the categories are determined based on the range [0, max(values)], while in the future they will be determined based on the unique values.\n",
      "If you want the future behaviour and silence this warning, you can specify \"categories='auto'\".\n",
      "In case you used a LabelEncoder before this OneHotEncoder to convert the categories to integers, then you can now use the OneHotEncoder directly.\n",
      "  warnings.warn(msg, FutureWarning)\n"
     ]
    }
   ],
   "source": [
    "scaler = StandardScaler()  \n",
    "scaler.fit(x)  \n",
    "x0 = scaler.transform(x)\n",
    "Y0 = OneHotEncoder().fit_transform(np.expand_dims(Y, axis=1)).toarray()\n",
    "print(x[0])\n",
    "print(x0[0])\n",
    "print(Y[0])\n",
    "print(Y0[0])"
   ]
  },
  {
   "cell_type": "code",
   "execution_count": 4,
   "metadata": {
    "scrolled": false
   },
   "outputs": [
    {
     "name": "stdout",
     "output_type": "stream",
     "text": [
      "activation function: sigmoid, loss function: logloss =    1.447, iterations: 0, learning rate: 0.0100\n",
      "activation function: sigmoid, loss function: logloss =    0.045, iterations: 100, learning rate: 0.0090\n",
      "activation function: sigmoid, loss function: logloss =    0.019, iterations: 199, learning rate: 0.0082\n"
     ]
    },
    {
     "data": {
      "image/png": "[encoded data removed]",
      "text/plain": [
       "<Figure size 432x288 with 1 Axes>"
      ]
     },
     "metadata": {
      "needs_background": "light"
     },
     "output_type": "display_data"
    }
   ],
   "source": [
    "### mlp parameters\n",
    "my_mlp = my_MLPClassifier(hidden=[4,2], max_iter=200, learning_rate=0.01)\n",
    "my_mlp.fit(x0, Y0)"
   ]
  },
  {
   "cell_type": "code",
   "execution_count": 5,
   "metadata": {},
   "outputs": [
    {
     "name": "stdout",
     "output_type": "stream",
     "text": [
      "178\n"
     ]
    }
   ],
   "source": [
    "y_ = my_mlp.predict(x0)\n",
    "count = len(y_[y_==Y])\n",
    "print(count)"
   ]
  },
  {
   "cell_type": "code",
   "execution_count": 6,
   "metadata": {},
   "outputs": [
    {
     "name": "stdout",
     "output_type": "stream",
     "text": [
      "accuracy after  200 iterations is 100.00%\n"
     ]
    }
   ],
   "source": [
    "print('accuracy after {:4d} iterations is {:6.2f}%'.format(my_mlp.iterations, 100*count/len(y_)))"
   ]
  }
 ],
 "metadata": {
  "kernelspec": {
   "display_name": "Python 3",
   "language": "python",
   "name": "python3"
  },
  "language_info": {
   "codemirror_mode": {
    "name": "ipython",
    "version": 3
   },
   "file_extension": ".py",
   "mimetype": "text/x-python",
   "name": "python",
   "nbconvert_exporter": "python",
   "pygments_lexer": "ipython3",
   "version": "3.6.8"
  }
 },
 "nbformat": 4,
 "nbformat_minor": 2
}
