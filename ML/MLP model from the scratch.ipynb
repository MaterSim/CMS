{
 "cells": [
  {
   "cell_type": "markdown",
   "metadata": {},
   "source": [
    "# Multi-Layer Perceptron from the scratch\n",
    "\n",
    "Nowadays, multi-Layer neural network has been proved to be a powerful tool in many data science problems. Though many existing packages have provided the interfaces to call this function (e.g. scikit-learn), it would be good to write some toy model by your own. Through this practice, you will gain some experience in software engineering. More importantly, you will understand the underlying mathmatics better and know how to fix the troubles when you run the code from the existing softwares. In the tutorial, we will continue to use the wine data and figure out how to write our own MLP classfier.\n",
    "\n",
    "Let us start with the example in the previous lecture\n",
    "```\n",
    "MLPClassifier(activation='relu', alpha=0.0001, batch_size='auto', beta_1=0.9,\n",
    "       beta_2=0.999, early_stopping=False, epsilon=1e-08,\n",
    "       hidden_layer_sizes=(4, 2), learning_rate='constant',\n",
    "       learning_rate_init=0.001, max_iter=200, momentum=0.9,\n",
    "       n_iter_no_change=10, nesterovs_momentum=True, power_t=0.5,\n",
    "       random_state=None, shuffle=True, solver='adam', tol=0.0001,\n",
    "       validation_fraction=0.1, verbose=False, warm_start=False)\n",
    "```\n",
    "<img src=\"img/MLP.jpeg\" style=\"width: 800px;\"/>\n",
    "<center> Figure 1, the MLP model used in this lecture</center>\n",
    "\n",
    "You should be able to understand most of the parameters at the moment. To realize a minimum version of MLP, we can try to implement the following parameters into our model:\n",
    "- hidden_layer_sizes: to make life easier, let us just consider 2 hidden layer models\n",
    "- max_iter: maximum number of iteractions\n",
    "- learning_rate_init: \n",
    "\n",
    "Note that we will completely ignore the terms related to regularization\n",
    "\n",
    "## Forward propagation\n",
    "$\n",
    "\\begin{align}\n",
    "h_1 &= w_1\\cdot x + b_1\\\\\n",
    "F_1 & = f(h_1)\\\\\n",
    "h_2 &= w_2\\cdot f_1(w_1\\cdot x + b_1)) + b_2 = w_2\\cdot F_1 + b_2\\\\\n",
    "F_2 & = f(h_2)\\\\\n",
    "h_3 &= w_3\\cdot f_2((w_2\\cdot f_1(w_1\\cdot x + b_1)) + b_2)) + b_3 = w_3\\cdot F_2 + b_3\\\\\n",
    "y` &= f_3(h_3) \\\\\n",
    "\\end{align}\n",
    "$\n",
    "\n",
    "## Loss function\n",
    "$\n",
    "\\begin{align}\n",
    "L = \\frac{1}{2}(y`-y)^2\n",
    "\\end{align}\n",
    "$\n",
    "\n",
    "## Back propagation\n",
    "\n",
    "$\n",
    "\\begin{align}\n",
    "\\frac{\\partial L}{\\partial y} & = y-Y \\\\\n",
    "\\frac{\\partial L}{\\partial h3} &= \\frac{\\partial L}{\\partial y} (1-h_3)h_3 \\\\\n",
    "\\frac{\\partial L}{\\partial w_3}& = \\frac{\\partial L}{\\partial h_3}F_2,~~~\n",
    "\\frac{\\partial L}{\\partial b_3} = \\frac{\\partial L}{\\partial h_3}, ~~~ \n",
    "\\frac{\\partial L}{\\partial F_2} = \\frac{\\partial L}{\\partial h_3}w_3 \\\\  \n",
    "\\frac{\\partial L}{\\partial h_2} & = \\frac{\\partial L}{\\partial F_2}(1-h_2)h_2\\\\\n",
    "\\frac{\\partial L}{\\partial w_2} & = \\frac{\\partial L}{\\partial h_2}\\frac{\\partial h_2}{\\partial w_2}               \n",
    "                                  = \\frac{\\partial L}{\\partial h_2} F_1,~~~\n",
    "\\frac{\\partial L}{\\partial b_2} = \\frac{\\partial L}{\\partial f_2}\\frac{\\partial f_2}{\\partial b_2}\n",
    "                                  = \\frac{\\partial L}{\\partial f_2},~~~\n",
    "\\frac{\\partial L}{\\partial F_1} = \\frac{\\partial L}{\\partial h_2}w_2\\\\\n",
    "\\frac{\\partial L}{\\partial h_1} & = \\frac{\\partial L}{\\partial F_1}(1-h_1)h_1 \\\\  \n",
    "\\frac{\\partial L}{\\partial w_2} & = \\frac{\\partial L}{\\partial h_1}\\frac{\\partial h_1}{\\partial w_1}               \n",
    "                                  = \\frac{\\partial L}{\\partial h_1} \\cdot x,~~~\n",
    "\\frac{\\partial L}{\\partial b_2} = \\frac{\\partial L}{\\partial h_1}\\frac{\\partial h_1}{\\partial b_1}\n",
    "                                  = \\frac{\\partial L}{\\partial h_1}\\\\\n",
    "\\end{align}\n",
    "$\n",
    "\n"
   ]
  },
  {
   "cell_type": "code",
   "execution_count": 61,
   "metadata": {},
   "outputs": [],
   "source": [
    "%matplotlib inline\n",
    "\n",
    "import numpy as np\n",
    "import sys\n",
    "import matplotlib.pyplot as plt\n",
    "\n",
    "class my_MLPClassifier(object):\n",
    "    \"\"\"\n",
    "    Basic MultiLayer Perceptron (MLP) neural network.\n",
    "    Args:\n",
    "    hidden layer: []\n",
    "    max_iterations: []\n",
    "    \"\"\"\n",
    "    def __init__(self, hidden, max_iter=10, \n",
    "                 learning_rate=1e-3, decay_rate=0.99, \n",
    "                 activation='sigmoid', loss='mse'):\n",
    "        \"\"\"\n",
    "        :param hidden: number of hidden neurons\n",
    "        :param iterations: how many epochs\n",
    "        :param learning_rate: initial learning rate\n",
    "        \"\"\"\n",
    "        # initialize input parameters\n",
    "        self.iterations = max_iter\n",
    "        self.learning_rate = learning_rate\n",
    "        self.decay_rate = decay_rate\n",
    "        self.n_hid1, self.n_hid2 = hidden[0], hidden[1]\n",
    "        self.activation_method = activation\n",
    "        self.loss_method= loss\n",
    "        \n",
    "    def fit(self, input, target):      \n",
    "        \"\"\"\n",
    "        input: 2D array, N_sample * N_attributes\n",
    "        output: 1D array, N_sample * 1\n",
    "        \"\"\"\n",
    "        # Initialize the weights and bias according to the input/target data\n",
    "        dim_in, dim_out = input.shape[1], 1\n",
    "        self.w1 = np.random.randn(dim_in, self.n_hid1) # [13,4] -- 52 weights \n",
    "        self.w2 = np.random.randn(self.n_hid1, self.n_hid2) # [4,4] -- 16 weights\n",
    "        self.w3 = np.random.randn(self.n_hid2, dim_out) # [4,1] -- 4 weights\n",
    "        self.b1 = np.random.randn(1,self.n_hid1) # [1,4] -- 4 biases\n",
    "        self.b2 = np.random.randn(1,self.n_hid2) # [1,4] -- 4 biases\n",
    "        self.b3 = np.random.randn(1,dim_out)  # [1,1] -- 1 bias\n",
    "        loss_hist = [] # track loss for printing\n",
    "        \n",
    "        \"\"\"\n",
    "        training\n",
    "        \"\"\"\n",
    "        \n",
    "        for i in range(self.iterations):\n",
    "            # forward: input --> hidden layer 1 -- hidden layer 2 -- output\n",
    "            (h1, h2, y) = self.forward(input)\n",
    "            \n",
    "            # evaluate and print the loss function\n",
    "            loss = self.loss(y, target)\n",
    "            loss_hist.append(loss)\n",
    "            \n",
    "            # backprop: output --> hidden layer 2 --> hidden layer 1 --> input\n",
    "            \"\"\"\n",
    "            deltas are the derivatives of the inputs and outputs of the nodes which are used to find the gradients\n",
    "            of the parameters with respect to the cost: gradw & gradb.\n",
    "            \n",
    "            after finding gradw and gradb, the weights and biases are updated.\n",
    "            \"\"\"\n",
    "            \n",
    "            delta3 = self.grad_loss(y, target) * self.grad_activation(y) \n",
    "            gradw3 = np.dot(delta3, h2)\n",
    "            gradw3 = np.reshape(gradw3, [len(gradw3), 1])\n",
    "            gradb3 = np.sum(delta3)\n",
    "            delta2 = (np.transpose(np.dot(self.w3,np.transpose(np.vstack(delta3)))) * \n",
    "                      self.grad_activation(h2))\n",
    "            gradw2 = np.dot(np.transpose(delta2),h1)\n",
    "            gradb2 = np.sum(delta2)\n",
    "            \n",
    "            delta = (np.transpose(np.dot(self.w2,np.transpose(np.vstack(delta2)))) * \n",
    "                     self.grad_activation(h1))\n",
    "            gradw = np.transpose(np.dot(np.transpose(delta),input))\n",
    "            gradb = np.sum(delta)\n",
    "            \n",
    "            # updating the weight\n",
    "            #w3, b3, w2, b2, w1, b1 = self.w3.flatten(), self.b3, self.w2, self.b2, self.w1, self.b1\n",
    "            learning_rate = self.learning_rate * (self.decay_rate**i)\n",
    "            self.w3 -= learning_rate*gradw3\n",
    "            self.b3 -= learning_rate*gradb3\n",
    "            self.w2 -= learning_rate*gradw2\n",
    "            self.b2 -= learning_rate*gradb2\n",
    "            self.w1 -= learning_rate*gradw\n",
    "            self.b1 -= learning_rate*gradb\n",
    "        self.weights = (self.w3, self.w2, self.w1)\n",
    "        self.bias = (self.b3, self.b2, self.b1)\n",
    "        print('loss is {:4f} after {:4d} iterations'.format(loss, self.iterations))\n",
    "        plt.title('training curve')\n",
    "        plt.xlabel('epoch')\n",
    "        plt.ylabel('loss')\n",
    "        plt.plot(np.arange(0,self.iterations),loss_hist)\n",
    "  \n",
    "    def loss(self, y, target):\n",
    "        if self.loss_method=='mse':\n",
    "            return 0.5*np.sum(np.power(y-target,2))/y.shape[0]\n",
    "        elif self.loss.method=='log_loss':\n",
    "            pass\n",
    "        else:\n",
    "            raise Notimplementederror\n",
    "    \n",
    "    def grad_loss(self, y, target):\n",
    "        if self.loss_method=='mse':\n",
    "            return y-target\n",
    "        elif self.loss_method=='log_loss':\n",
    "            pass\n",
    "        else:\n",
    "            raise NotImplementedError\n",
    "\n",
    "    def activation(self, x):\n",
    "        return 1./(1+np.exp(-x))\n",
    "    \n",
    "    def grad_activation(self, x):\n",
    "        if self.activation_method=='sigmoid':\n",
    "            return self.activation(x)*(1-self.activation(x))\n",
    "        elif self.activation_method=='log_loss':\n",
    "            pass\n",
    "        else:\n",
    "            raise NotImplementedError\n",
    "            \n",
    "    def forward(self, X):\n",
    "        h1 = self.activation(np.dot(X,self.w1)+self.b1)\n",
    "        h2 = self.activation(np.dot(h1,self.w2)+self.b2)\n",
    "        y = self.activation(np.dot(h2,self.w3)+self.b3)\n",
    "        return (h1, h2, y.flatten())\n",
    "        \n",
    "    def predict(self, X):\n",
    "        \"\"\"\n",
    "        return predictions after training algorithm\n",
    "        \"\"\"\n",
    "        (h1, h2, y) = self.forward(X)\n",
    "        return y"
   ]
  },
  {
   "cell_type": "code",
   "execution_count": 62,
   "metadata": {},
   "outputs": [],
   "source": [
    "#Obtain and preprocess the data\n",
    "from sklearn.datasets import load_wine\n",
    "data=load_wine()\n",
    "x, Y = data.data, data.target\n",
    "\n",
    "from sklearn.preprocessing import StandardScaler\n",
    "scaler = StandardScaler()  \n",
    "scaler.fit(x)  \n",
    "x0 = scaler.transform(x) "
   ]
  },
  {
   "cell_type": "code",
   "execution_count": 63,
   "metadata": {
    "scrolled": false
   },
   "outputs": [
    {
     "name": "stdout",
     "output_type": "stream",
     "text": [
      "loss is 0.339369 after   10 iterations\n"
     ]
    },
    {
     "data": {
      "image/png": "[encoded data removed]",
      "text/plain": [
       "<Figure size 432x288 with 1 Axes>"
      ]
     },
     "metadata": {
      "needs_background": "light"
     },
     "output_type": "display_data"
    }
   ],
   "source": [
    "### mlp parameters\n",
    "my_mlp = my_MLPClassifier(hidden=[4,4],max_iter=10)\n",
    "my_mlp.fit(x0, Y)"
   ]
  },
  {
   "cell_type": "code",
   "execution_count": 73,
   "metadata": {},
   "outputs": [
    {
     "data": {
      "text/plain": [
       "array([[2., 2., 2., 2., 2., 2., 2., 2., 2., 2., 2., 2., 2., 2., 2., 2.,\n",
       "        2., 2., 2., 2., 2., 2., 2., 2., 2., 2., 2., 2., 2., 2., 2., 2.,\n",
       "        2., 2., 2., 2., 2., 2., 2., 2., 2., 2., 2., 2., 2., 2., 2., 2.,\n",
       "        2., 2., 2., 2., 2., 2., 2., 2., 2., 2., 2., 2., 2., 2., 2., 2.,\n",
       "        2., 2., 2., 2., 2., 2., 2., 2., 2., 2., 2., 2., 2., 2., 2., 2.,\n",
       "        2., 2., 2., 2., 2., 2., 2., 2., 2., 2., 2., 2., 2., 2., 2., 2.,\n",
       "        2., 2., 2., 2., 2., 2., 2., 2., 2., 2., 2., 2., 2., 2., 2., 2.,\n",
       "        2., 2., 2., 2., 2., 2., 2., 2., 2., 2., 2., 2., 2., 2., 2., 2.,\n",
       "        2., 2., 2., 2., 2., 2., 2., 2., 2., 2., 2., 2., 2., 2., 2., 2.,\n",
       "        2., 2., 2., 2., 2., 2., 2., 2., 2., 2., 2., 2., 2., 2., 2., 2.,\n",
       "        2., 2., 2., 2., 2., 2., 2., 2., 2., 2., 2., 2., 2., 2., 2., 2.,\n",
       "        2., 2.]])"
      ]
     },
     "execution_count": 73,
     "metadata": {},
     "output_type": "execute_result"
    }
   ],
   "source": [
    "a=my_mlp.predict(x0)\n",
    "y=[round(s) for s in 3*a]\n",
    "#y=[int(s) for s in 3*a]\n",
    "np.array(y).reshape(1,len(y))"
   ]
  },
  {
   "cell_type": "code",
   "execution_count": 74,
   "metadata": {},
   "outputs": [
    {
     "data": {
      "text/plain": [
       "array([0, 0, 0, 0, 0, 0, 0, 0, 0, 0, 0, 0, 0, 0, 0, 0, 0, 0, 0, 0, 0, 0,\n",
       "       0, 0, 0, 0, 0, 0, 0, 0, 0, 0, 0, 0, 0, 0, 0, 0, 0, 0, 0, 0, 0, 0,\n",
       "       0, 0, 0, 0, 0, 0, 0, 0, 0, 0, 0, 0, 0, 0, 0, 1, 1, 1, 1, 1, 1, 1,\n",
       "       1, 1, 1, 1, 1, 1, 1, 1, 1, 1, 1, 1, 1, 1, 1, 1, 1, 1, 1, 1, 1, 1,\n",
       "       1, 1, 1, 1, 1, 1, 1, 1, 1, 1, 1, 1, 1, 1, 1, 1, 1, 1, 1, 1, 1, 1,\n",
       "       1, 1, 1, 1, 1, 1, 1, 1, 1, 1, 1, 1, 1, 1, 1, 1, 1, 1, 1, 1, 2, 2,\n",
       "       2, 2, 2, 2, 2, 2, 2, 2, 2, 2, 2, 2, 2, 2, 2, 2, 2, 2, 2, 2, 2, 2,\n",
       "       2, 2, 2, 2, 2, 2, 2, 2, 2, 2, 2, 2, 2, 2, 2, 2, 2, 2, 2, 2, 2, 2,\n",
       "       2, 2])"
      ]
     },
     "execution_count": 74,
     "metadata": {},
     "output_type": "execute_result"
    }
   ],
   "source": [
    "Y"
   ]
  },
  {
   "cell_type": "code",
   "execution_count": null,
   "metadata": {},
   "outputs": [],
   "source": []
  }
 ],
 "metadata": {
  "kernelspec": {
   "display_name": "Python 3",
   "language": "python",
   "name": "python3"
  },
  "language_info": {
   "codemirror_mode": {
    "name": "ipython",
    "version": 3
   },
   "file_extension": ".py",
   "mimetype": "text/x-python",
   "name": "python",
   "nbconvert_exporter": "python",
   "pygments_lexer": "ipython3",
   "version": "3.6.8"
  }
 },
 "nbformat": 4,
 "nbformat_minor": 2
}
