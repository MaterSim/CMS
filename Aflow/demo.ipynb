{
 "cells": [
  {
   "cell_type": "markdown",
   "metadata": {},
   "source": [
    "# Extracting data from AFLOWlib\n",
    "\n",
    "Here is a simple example to extract data from aflowlib by using [aflow Python library](https://pypi.python.org/pypi/aflow)"
   ]
  },
  {
   "cell_type": "code",
   "execution_count": 1,
   "metadata": {},
   "outputs": [
    {
     "name": "stdout",
     "output_type": "stream",
     "text": [
      "621\n"
     ]
    }
   ],
   "source": [
    "from aflow import *\n",
    "\n",
    "results = search(batch_size=20\n",
    "        ).filter((K.Egap > 0.1) & (K.Egap < 1)\n",
    "        ).filter(K.nspecies == 2\n",
    "        ).filter(K.natoms < 5)\n",
    "print(len(results))"
   ]
  },
  {
   "cell_type": "code",
   "execution_count": 2,
   "metadata": {
    "scrolled": false
   },
   "outputs": [
    {
     "data": {
      "text/plain": [
       "['Bravais_lattice_orig',\n",
       " 'Bravais_lattice_relax',\n",
       " 'Egap',\n",
       " 'Egap_fit',\n",
       " 'Egap_type',\n",
       " 'PV_atom',\n",
       " 'PV_cell',\n",
       " 'Pearson_symbol_orig',\n",
       " 'Pearson_symbol_relax',\n",
       " 'Pulay_stress',\n",
       " 'Pullay_stress',\n",
       " '__class__',\n",
       " '__delattr__',\n",
       " '__dict__',\n",
       " '__dir__',\n",
       " '__doc__',\n",
       " '__eq__',\n",
       " '__format__',\n",
       " '__ge__',\n",
       " '__getattribute__',\n",
       " '__gt__',\n",
       " '__hash__',\n",
       " '__init__',\n",
       " '__init_subclass__',\n",
       " '__le__',\n",
       " '__lt__',\n",
       " '__module__',\n",
       " '__ne__',\n",
       " '__new__',\n",
       " '__reduce__',\n",
       " '__reduce_ex__',\n",
       " '__repr__',\n",
       " '__setattr__',\n",
       " '__sizeof__',\n",
       " '__str__',\n",
       " '__subclasshook__',\n",
       " '__weakref__',\n",
       " '_atoms',\n",
       " '_files',\n",
       " '_lazy_load',\n",
       " 'ael_bulk_modulus_reuss',\n",
       " 'ael_bulk_modulus_voigt',\n",
       " 'ael_bulk_modulus_vrh',\n",
       " 'ael_elastic_anistropy',\n",
       " 'ael_poisson_ratio',\n",
       " 'ael_shear_modulus_reuss',\n",
       " 'ael_shear_modulus_voigt',\n",
       " 'ael_shear_modulus_vrh',\n",
       " 'aflow_version',\n",
       " 'aflowlib_date',\n",
       " 'aflowlib_entries',\n",
       " 'aflowlib_entries_number',\n",
       " 'aflowlib_version',\n",
       " 'agl_acoustic_debye',\n",
       " 'agl_bulk_modulus_isothermal_300K',\n",
       " 'agl_bulk_modulus_static_300K',\n",
       " 'agl_debye',\n",
       " 'agl_gruneisen',\n",
       " 'agl_heat_capacity_Cp_300K',\n",
       " 'agl_heat_capacity_Cv_300K',\n",
       " 'agl_thermal_conductivity_300K',\n",
       " 'agl_thermal_expansion_300K',\n",
       " 'atoms',\n",
       " 'attributes',\n",
       " 'auid',\n",
       " 'aurl',\n",
       " 'author',\n",
       " 'bader_atomic_volumes',\n",
       " 'bader_net_charges',\n",
       " 'calculation_cores',\n",
       " 'calculation_memory',\n",
       " 'calculation_time',\n",
       " 'catalog',\n",
       " 'code',\n",
       " 'composition',\n",
       " 'compound',\n",
       " 'corresponding',\n",
       " 'data_api',\n",
       " 'data_language',\n",
       " 'data_source',\n",
       " 'delta_electronic_energy_convergence',\n",
       " 'delta_electronic_energy_threshold',\n",
       " 'density',\n",
       " 'dft_type',\n",
       " 'eentropy_atom',\n",
       " 'eentropy_cell',\n",
       " 'energy_atom',\n",
       " 'energy_cell',\n",
       " 'energy_cutoff',\n",
       " 'enthalpy_atom',\n",
       " 'enthalpy_cell',\n",
       " 'enthalpy_formation_atom',\n",
       " 'enthalpy_formation_cell',\n",
       " 'entropic_temperature',\n",
       " 'files',\n",
       " 'forces',\n",
       " 'geometry',\n",
       " 'keywords',\n",
       " 'kpoints',\n",
       " 'lattice_system_orig',\n",
       " 'lattice_system_relax',\n",
       " 'lattice_variation_orig',\n",
       " 'lattice_variation_relax',\n",
       " 'ldau_TLUJ',\n",
       " 'loop',\n",
       " 'natoms',\n",
       " 'nbondxx',\n",
       " 'node_CPU_Cores',\n",
       " 'node_CPU_MHz',\n",
       " 'node_CPU_Model',\n",
       " 'node_RAM_GB',\n",
       " 'nspecies',\n",
       " 'positions_cartesian',\n",
       " 'positions_fractional',\n",
       " 'pressure',\n",
       " 'pressure_final',\n",
       " 'pressure_residual',\n",
       " 'prototype',\n",
       " 'raw',\n",
       " 'scintillation_attenuation_length',\n",
       " 'sg',\n",
       " 'sg2',\n",
       " 'spacegroup_orig',\n",
       " 'spacegroup_relax',\n",
       " 'species',\n",
       " 'species_pp',\n",
       " 'species_pp_ZVAL',\n",
       " 'species_pp_version',\n",
       " 'spinD',\n",
       " 'spinF',\n",
       " 'spin_atom',\n",
       " 'spin_cell',\n",
       " 'sponsor',\n",
       " 'stoich',\n",
       " 'stoichiometry',\n",
       " 'stress_tensor',\n",
       " 'valence_cell_iupac',\n",
       " 'valence_cell_std',\n",
       " 'volume_atom',\n",
       " 'volume_cell']"
      ]
     },
     "execution_count": 2,
     "metadata": {},
     "output_type": "execute_result"
    }
   ],
   "source": [
    "# what kind of data does each entry have?\n",
    "dir(results[0])"
   ]
  },
  {
   "cell_type": "code",
   "execution_count": 3,
   "metadata": {},
   "outputs": [
    {
     "name": "stdout",
     "output_type": "stream",
     "text": [
      "Progress 100 / 621 Bi2Te3 0.277\n",
      "Progress 200 / 621 Bi2Se3 0.3929\n"
     ]
    }
   ],
   "source": [
    "counter=0\n",
    "\n",
    "for result in results[:200]:\n",
    "    counter += 1\n",
    "    if (counter % 100==0):\n",
    "        print('Progress', counter, \"/\", len(results), result.compound, result.Egap)\n"
   ]
  },
  {
   "cell_type": "code",
   "execution_count": 4,
   "metadata": {
    "scrolled": false
   },
   "outputs": [
    {
     "name": "stdout",
     "output_type": "stream",
     "text": [
      "Bi2O3\n",
      "[ 3.917021  3.917021  5.849795 90.       90.       90.      ]\n",
      "Bi2O3_ICSD_168808\n",
      "\n",
      "aflowlib.duke.edu:AFLOWDATA/ICSD_WEB/TET/Bi2O3_ICSD_168808\n"
     ]
    }
   ],
   "source": [
    "print(results[0].compound)\n",
    "print(results[0].geometry)\n",
    "print(results[0].prototype)\n",
    "print(results[0].aurl)"
   ]
  },
  {
   "cell_type": "code",
   "execution_count": 5,
   "metadata": {},
   "outputs": [
    {
     "name": "stdout",
     "output_type": "stream",
     "text": [
      "['AECCAR0.static.xz',\n",
      " 'AECCAR2.static.xz',\n",
      " 'Bi2O3_ICSD_168808.cif',\n",
      " 'Bi2O3_ICSD_168808.png',\n",
      " 'Bi2O3_ICSD_168808_BZ.png',\n",
      " 'Bi2O3_ICSD_168808_Bader_20_Bi.jvxl.xz',\n",
      " 'Bi2O3_ICSD_168808_Bader_20_O.jvxl.xz',\n",
      " 'Bi2O3_ICSD_168808_Bader_30_Bi.jvxl.xz',\n",
      " 'Bi2O3_ICSD_168808_Bader_30_O.jvxl.xz',\n",
      " 'Bi2O3_ICSD_168808_Bader_40_Bi.jvxl.xz',\n",
      " 'Bi2O3_ICSD_168808_Bader_40_O.jvxl.xz',\n",
      " 'Bi2O3_ICSD_168808_Bader_50_Bi.jvxl.xz',\n",
      " 'Bi2O3_ICSD_168808_Bader_50_O.jvxl.xz',\n",
      " 'Bi2O3_ICSD_168808_DOS.png',\n",
      " 'Bi2O3_ICSD_168808_PEDOS_1_5_Bi.png',\n",
      " 'Bi2O3_ICSD_168808_PEDOS_3_5_O.png',\n",
      " 'Bi2O3_ICSD_168808_PEDOS_4_5_O.png',\n",
      " 'Bi2O3_ICSD_168808_PEDOS_5_5_O.png',\n",
      " 'Bi2O3_ICSD_168808_abader.out',\n",
      " 'Bi2O3_ICSD_168808_bandsdata.json.xz',\n",
      " 'Bi2O3_ICSD_168808_corner.cif',\n",
      " 'Bi2O3_ICSD_168808_dosdata.json.xz',\n",
      " 'Bi2O3_ICSD_168808_sconv.cif',\n",
      " 'Bi2O3_ICSD_168808_sconv_corner.cif',\n",
      " 'Bi2O3_ICSD_168808_sprim.cif',\n",
      " 'Bi2O3_ICSD_168808_sprim_corner.cif',\n",
      " 'Bi2O3_ICSD_168808_structure_relax.json',\n",
      " 'Bi2O3_ICSD_168808_structure_relax1.json',\n",
      " 'CHGCAR.static.xz',\n",
      " 'CONTCAR.relax',\n",
      " 'CONTCAR.relax.abinit',\n",
      " 'CONTCAR.relax.aims',\n",
      " 'CONTCAR.relax.qe',\n",
      " 'CONTCAR.relax.vasp',\n",
      " 'CONTCAR.relax1',\n",
      " 'DOSCAR.static.xz',\n",
      " 'EIGENVAL.bands.xz',\n",
      " 'INCAR.bands',\n",
      " 'KPOINTS.bands',\n",
      " 'KPOINTS.relax',\n",
      " 'KPOINTS.static',\n",
      " 'OUTCAR.static.xz',\n",
      " 'POSCAR.bands',\n",
      " 'aflow.agroup.bands.json.xz',\n",
      " 'aflow.agroup.bands.out.xz',\n",
      " 'aflow.agroup.orig.json.xz',\n",
      " 'aflow.agroup.orig.out.xz',\n",
      " 'aflow.agroup.relax.json.xz',\n",
      " 'aflow.agroup.relax.out.xz',\n",
      " 'aflow.fgroup.bands.json.xz',\n",
      " 'aflow.fgroup.bands.out.xz',\n",
      " 'aflow.fgroup.orig.json.xz',\n",
      " 'aflow.fgroup.orig.out.xz',\n",
      " 'aflow.fgroup.relax.json.xz',\n",
      " 'aflow.fgroup.relax.out.xz',\n",
      " 'aflow.iatoms.bands.json.xz',\n",
      " 'aflow.iatoms.bands.out.xz',\n",
      " 'aflow.iatoms.orig.json.xz',\n",
      " 'aflow.iatoms.orig.out.xz',\n",
      " 'aflow.iatoms.relax.json.xz',\n",
      " 'aflow.iatoms.relax.out.xz',\n",
      " 'aflow.pgroup.bands.json.xz',\n",
      " 'aflow.pgroup.bands.out.xz',\n",
      " 'aflow.pgroup.orig.json.xz',\n",
      " 'aflow.pgroup.orig.out.xz',\n",
      " 'aflow.pgroup.relax.json.xz',\n",
      " 'aflow.pgroup.relax.out.xz',\n",
      " 'aflow.pgroup_xtal.bands.json.xz',\n",
      " 'aflow.pgroup_xtal.bands.out.xz',\n",
      " 'aflow.pgroup_xtal.orig.json.xz',\n",
      " 'aflow.pgroup_xtal.orig.out.xz',\n",
      " 'aflow.pgroup_xtal.relax.json.xz',\n",
      " 'aflow.pgroup_xtal.relax.out.xz',\n",
      " 'aflow.pgroupk.bands.json.xz',\n",
      " 'aflow.pgroupk.bands.out.xz',\n",
      " 'aflow.pgroupk.orig.json.xz',\n",
      " 'aflow.pgroupk.orig.out.xz',\n",
      " 'aflow.pgroupk.relax.json.xz',\n",
      " 'aflow.pgroupk.relax.out.xz',\n",
      " 'aflow.pgroupk_xtal.bands.json.xz',\n",
      " 'aflow.pgroupk_xtal.bands.out.xz',\n",
      " 'aflow.pgroupk_xtal.orig.json.xz',\n",
      " 'aflow.pgroupk_xtal.orig.out.xz',\n",
      " 'aflow.pgroupk_xtal.relax.json.xz',\n",
      " 'aflow.pgroupk_xtal.relax.out.xz',\n",
      " 'aflowlib.json',\n",
      " 'aflowlib.out',\n",
      " 'edata.bands.json',\n",
      " 'edata.bands.out',\n",
      " 'edata.orig.json',\n",
      " 'edata.orig.out',\n",
      " 'edata.relax.json',\n",
      " 'edata.relax.out',\n",
      " 'index.php\\n']\n"
     ]
    }
   ],
   "source": [
    "from pprint import pprint\n",
    "pprint(results[0].files)\n"
   ]
  },
  {
   "cell_type": "markdown",
   "metadata": {},
   "source": [
    "More illustration: here is [an example from my student](https://github.com/katieran4/Machine-Learning/blob/master/M4_V4-Predicting%20Band%20Gap_DavidTest.ipynb)"
   ]
  },
  {
   "cell_type": "code",
   "execution_count": null,
   "metadata": {
    "collapsed": true
   },
   "outputs": [],
   "source": []
  }
 ],
 "metadata": {
  "kernelspec": {
   "display_name": "Python 3",
   "language": "python",
   "name": "python3"
  },
  "language_info": {
   "codemirror_mode": {
    "name": "ipython",
    "version": 3
   },
   "file_extension": ".py",
   "mimetype": "text/x-python",
   "name": "python",
   "nbconvert_exporter": "python",
   "pygments_lexer": "ipython3",
   "version": "3.6.0"
  }
 },
 "nbformat": 4,
 "nbformat_minor": 2
}
